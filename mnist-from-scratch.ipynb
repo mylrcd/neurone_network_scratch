{
 "cells": [
  {
   "cell_type": "code",
   "execution_count": 1,
   "id": "d7c009d4",
   "metadata": {
    "execution": {
     "iopub.execute_input": "2023-09-01T15:33:12.881468Z",
     "iopub.status.busy": "2023-09-01T15:33:12.880429Z",
     "iopub.status.idle": "2023-09-01T15:33:13.336723Z",
     "shell.execute_reply": "2023-09-01T15:33:13.335519Z"
    },
    "papermill": {
     "duration": 0.468864,
     "end_time": "2023-09-01T15:33:13.340144",
     "exception": false,
     "start_time": "2023-09-01T15:33:12.871280",
     "status": "completed"
    },
    "tags": []
   },
   "outputs": [],
   "source": [
    "import numpy as np\n",
    "import pandas as pd\n",
    "from matplotlib import pyplot as plt"
   ]
  },
  {
   "cell_type": "code",
   "execution_count": 2,
   "id": "b6d991d8",
   "metadata": {
    "execution": {
     "iopub.execute_input": "2023-09-01T15:33:13.354689Z",
     "iopub.status.busy": "2023-09-01T15:33:13.354063Z",
     "iopub.status.idle": "2023-09-01T15:33:17.879302Z",
     "shell.execute_reply": "2023-09-01T15:33:17.877923Z"
    },
    "papermill": {
     "duration": 4.536071,
     "end_time": "2023-09-01T15:33:17.882742",
     "exception": false,
     "start_time": "2023-09-01T15:33:13.346671",
     "status": "completed"
    },
    "tags": []
   },
   "outputs": [],
   "source": [
    "data = pd.read_csv('/kaggle/input/scratch-mnist/train.csv/train.csv')"
   ]
  },
  {
   "cell_type": "code",
   "execution_count": 3,
   "id": "051b7435",
   "metadata": {
    "execution": {
     "iopub.execute_input": "2023-09-01T15:33:17.901310Z",
     "iopub.status.busy": "2023-09-01T15:33:17.900899Z",
     "iopub.status.idle": "2023-09-01T15:33:17.937096Z",
     "shell.execute_reply": "2023-09-01T15:33:17.935903Z"
    },
    "papermill": {
     "duration": 0.04839,
     "end_time": "2023-09-01T15:33:17.939732",
     "exception": false,
     "start_time": "2023-09-01T15:33:17.891342",
     "status": "completed"
    },
    "tags": []
   },
   "outputs": [
    {
     "data": {
      "text/html": [
       "<div>\n",
       "<style scoped>\n",
       "    .dataframe tbody tr th:only-of-type {\n",
       "        vertical-align: middle;\n",
       "    }\n",
       "\n",
       "    .dataframe tbody tr th {\n",
       "        vertical-align: top;\n",
       "    }\n",
       "\n",
       "    .dataframe thead th {\n",
       "        text-align: right;\n",
       "    }\n",
       "</style>\n",
       "<table border=\"1\" class=\"dataframe\">\n",
       "  <thead>\n",
       "    <tr style=\"text-align: right;\">\n",
       "      <th></th>\n",
       "      <th>label</th>\n",
       "      <th>pixel0</th>\n",
       "      <th>pixel1</th>\n",
       "      <th>pixel2</th>\n",
       "      <th>pixel3</th>\n",
       "      <th>pixel4</th>\n",
       "      <th>pixel5</th>\n",
       "      <th>pixel6</th>\n",
       "      <th>pixel7</th>\n",
       "      <th>pixel8</th>\n",
       "      <th>...</th>\n",
       "      <th>pixel774</th>\n",
       "      <th>pixel775</th>\n",
       "      <th>pixel776</th>\n",
       "      <th>pixel777</th>\n",
       "      <th>pixel778</th>\n",
       "      <th>pixel779</th>\n",
       "      <th>pixel780</th>\n",
       "      <th>pixel781</th>\n",
       "      <th>pixel782</th>\n",
       "      <th>pixel783</th>\n",
       "    </tr>\n",
       "  </thead>\n",
       "  <tbody>\n",
       "    <tr>\n",
       "      <th>0</th>\n",
       "      <td>1</td>\n",
       "      <td>0</td>\n",
       "      <td>0</td>\n",
       "      <td>0</td>\n",
       "      <td>0</td>\n",
       "      <td>0</td>\n",
       "      <td>0</td>\n",
       "      <td>0</td>\n",
       "      <td>0</td>\n",
       "      <td>0</td>\n",
       "      <td>...</td>\n",
       "      <td>0</td>\n",
       "      <td>0</td>\n",
       "      <td>0</td>\n",
       "      <td>0</td>\n",
       "      <td>0</td>\n",
       "      <td>0</td>\n",
       "      <td>0</td>\n",
       "      <td>0</td>\n",
       "      <td>0</td>\n",
       "      <td>0</td>\n",
       "    </tr>\n",
       "    <tr>\n",
       "      <th>1</th>\n",
       "      <td>0</td>\n",
       "      <td>0</td>\n",
       "      <td>0</td>\n",
       "      <td>0</td>\n",
       "      <td>0</td>\n",
       "      <td>0</td>\n",
       "      <td>0</td>\n",
       "      <td>0</td>\n",
       "      <td>0</td>\n",
       "      <td>0</td>\n",
       "      <td>...</td>\n",
       "      <td>0</td>\n",
       "      <td>0</td>\n",
       "      <td>0</td>\n",
       "      <td>0</td>\n",
       "      <td>0</td>\n",
       "      <td>0</td>\n",
       "      <td>0</td>\n",
       "      <td>0</td>\n",
       "      <td>0</td>\n",
       "      <td>0</td>\n",
       "    </tr>\n",
       "    <tr>\n",
       "      <th>2</th>\n",
       "      <td>1</td>\n",
       "      <td>0</td>\n",
       "      <td>0</td>\n",
       "      <td>0</td>\n",
       "      <td>0</td>\n",
       "      <td>0</td>\n",
       "      <td>0</td>\n",
       "      <td>0</td>\n",
       "      <td>0</td>\n",
       "      <td>0</td>\n",
       "      <td>...</td>\n",
       "      <td>0</td>\n",
       "      <td>0</td>\n",
       "      <td>0</td>\n",
       "      <td>0</td>\n",
       "      <td>0</td>\n",
       "      <td>0</td>\n",
       "      <td>0</td>\n",
       "      <td>0</td>\n",
       "      <td>0</td>\n",
       "      <td>0</td>\n",
       "    </tr>\n",
       "    <tr>\n",
       "      <th>3</th>\n",
       "      <td>4</td>\n",
       "      <td>0</td>\n",
       "      <td>0</td>\n",
       "      <td>0</td>\n",
       "      <td>0</td>\n",
       "      <td>0</td>\n",
       "      <td>0</td>\n",
       "      <td>0</td>\n",
       "      <td>0</td>\n",
       "      <td>0</td>\n",
       "      <td>...</td>\n",
       "      <td>0</td>\n",
       "      <td>0</td>\n",
       "      <td>0</td>\n",
       "      <td>0</td>\n",
       "      <td>0</td>\n",
       "      <td>0</td>\n",
       "      <td>0</td>\n",
       "      <td>0</td>\n",
       "      <td>0</td>\n",
       "      <td>0</td>\n",
       "    </tr>\n",
       "    <tr>\n",
       "      <th>4</th>\n",
       "      <td>0</td>\n",
       "      <td>0</td>\n",
       "      <td>0</td>\n",
       "      <td>0</td>\n",
       "      <td>0</td>\n",
       "      <td>0</td>\n",
       "      <td>0</td>\n",
       "      <td>0</td>\n",
       "      <td>0</td>\n",
       "      <td>0</td>\n",
       "      <td>...</td>\n",
       "      <td>0</td>\n",
       "      <td>0</td>\n",
       "      <td>0</td>\n",
       "      <td>0</td>\n",
       "      <td>0</td>\n",
       "      <td>0</td>\n",
       "      <td>0</td>\n",
       "      <td>0</td>\n",
       "      <td>0</td>\n",
       "      <td>0</td>\n",
       "    </tr>\n",
       "  </tbody>\n",
       "</table>\n",
       "<p>5 rows × 785 columns</p>\n",
       "</div>"
      ],
      "text/plain": [
       "   label  pixel0  pixel1  pixel2  pixel3  pixel4  pixel5  pixel6  pixel7  \\\n",
       "0      1       0       0       0       0       0       0       0       0   \n",
       "1      0       0       0       0       0       0       0       0       0   \n",
       "2      1       0       0       0       0       0       0       0       0   \n",
       "3      4       0       0       0       0       0       0       0       0   \n",
       "4      0       0       0       0       0       0       0       0       0   \n",
       "\n",
       "   pixel8  ...  pixel774  pixel775  pixel776  pixel777  pixel778  pixel779  \\\n",
       "0       0  ...         0         0         0         0         0         0   \n",
       "1       0  ...         0         0         0         0         0         0   \n",
       "2       0  ...         0         0         0         0         0         0   \n",
       "3       0  ...         0         0         0         0         0         0   \n",
       "4       0  ...         0         0         0         0         0         0   \n",
       "\n",
       "   pixel780  pixel781  pixel782  pixel783  \n",
       "0         0         0         0         0  \n",
       "1         0         0         0         0  \n",
       "2         0         0         0         0  \n",
       "3         0         0         0         0  \n",
       "4         0         0         0         0  \n",
       "\n",
       "[5 rows x 785 columns]"
      ]
     },
     "execution_count": 3,
     "metadata": {},
     "output_type": "execute_result"
    }
   ],
   "source": [
    "data.head()"
   ]
  },
  {
   "cell_type": "code",
   "execution_count": 4,
   "id": "c4a28674",
   "metadata": {
    "execution": {
     "iopub.execute_input": "2023-09-01T15:33:17.954995Z",
     "iopub.status.busy": "2023-09-01T15:33:17.953980Z",
     "iopub.status.idle": "2023-09-01T15:33:18.820156Z",
     "shell.execute_reply": "2023-09-01T15:33:18.818823Z"
    },
    "papermill": {
     "duration": 0.876938,
     "end_time": "2023-09-01T15:33:18.823193",
     "exception": false,
     "start_time": "2023-09-01T15:33:17.946255",
     "status": "completed"
    },
    "tags": []
   },
   "outputs": [],
   "source": [
    "data = np.array(data)\n",
    "m, n = data.shape\n",
    "np.random.shuffle(data)\n",
    "\n",
    "data_dev=data[0:1000].T\n",
    "Y_dev=data_dev[0]\n",
    "X_dev=data_dev[1:n]\n",
    "X_dev=X_dev/255.\n",
    "\n",
    "data_train=data[1000:m].T\n",
    "Y_train=data_train[0]\n",
    "X_train=data_train[1:n]\n",
    "X_train=X_train/255.\n",
    "\n",
    "_,m_train = X_train.shape"
   ]
  },
  {
   "cell_type": "code",
   "execution_count": 5,
   "id": "86f3f176",
   "metadata": {
    "execution": {
     "iopub.execute_input": "2023-09-01T15:33:18.837812Z",
     "iopub.status.busy": "2023-09-01T15:33:18.837364Z",
     "iopub.status.idle": "2023-09-01T15:33:18.856376Z",
     "shell.execute_reply": "2023-09-01T15:33:18.855236Z"
    },
    "papermill": {
     "duration": 0.029555,
     "end_time": "2023-09-01T15:33:18.859252",
     "exception": false,
     "start_time": "2023-09-01T15:33:18.829697",
     "status": "completed"
    },
    "tags": []
   },
   "outputs": [],
   "source": [
    "def init_param():\n",
    "    W1=np.random.rand(10,784)-0.5\n",
    "    b1=np.random.rand(10,1) -0.5\n",
    "    W2=np.random.rand(10,10)-0.5\n",
    "    b2=np.random.rand(10,1) -0.5\n",
    "    return W1, b1, W2, b2\n",
    "\n",
    "def ReLU(Z):\n",
    "    return np.maximum(Z,0)\n",
    "\n",
    "def softmax(Z):\n",
    "    A = np.exp(Z)/sum(np.exp(Z))\n",
    "    return A\n",
    "\n",
    "def foward_prop(W1, b1, W2, b2, X):\n",
    "    Z1= W1.dot(X) + b1\n",
    "    A1= ReLU(Z1)\n",
    "    Z2= W2.dot(A1) +b2\n",
    "    A2= softmax(Z2)\n",
    "    return Z1, A1, Z2, A2\n",
    "\n",
    "def ReLU_deriv(Z):\n",
    "    return Z>0\n",
    "\n",
    "def init_params():\n",
    "    W1 = np.random.rand(10, 784) - 0.5\n",
    "    b1 = np.random.rand(10, 1) - 0.5\n",
    "    W2 = np.random.rand(10, 10) - 0.5\n",
    "    b2 = np.random.rand(10, 1) - 0.5\n",
    "    return W1, b1, W2, b2\n",
    "\n",
    "def ReLU(Z):\n",
    "    return np.maximum(Z, 0)\n",
    "\n",
    "def softmax(Z):\n",
    "    A = np.exp(Z) / sum(np.exp(Z))\n",
    "    return A\n",
    "    \n",
    "def forward_prop(W1, b1, W2, b2, X):\n",
    "    Z1 = W1.dot(X) + b1\n",
    "    A1 = ReLU(Z1)\n",
    "    Z2 = W2.dot(A1) + b2\n",
    "    A2 = softmax(Z2)\n",
    "    return Z1, A1, Z2, A2\n",
    "\n",
    "def ReLU_deriv(Z):\n",
    "    return Z > 0\n",
    "\n",
    "def one_hot(Y):\n",
    "    one_hot_Y = np.zeros((Y.size, Y.max() + 1))\n",
    "    one_hot_Y[np.arange(Y.size), Y] = 1\n",
    "    one_hot_Y = one_hot_Y.T\n",
    "    return one_hot_Y\n",
    "    \n",
    "def backward_prop(Z1, A1, Z2, A2, W1, W2, X, Y):\n",
    "    one_hot_Y = one_hot(Y)\n",
    "    dZ2 = A2 - one_hot_Y\n",
    "    dW2 = 1 / m * dZ2.dot(A1.T)\n",
    "    db2 = 1 / m * np.sum(dZ2)\n",
    "    dZ1 = W2.T.dot(dZ2) * ReLU_deriv(Z1)\n",
    "    dW1 = 1 / m * dZ1.dot(X.T)\n",
    "    db1 = 1 / m * np.sum(dZ1)\n",
    "    return dW1, db1, dW2, db2\n",
    "\n",
    "def update_params(W1, b1, W2, b2, dW1, db1, dW2, db2, alpha):\n",
    "    W1 = W1 - alpha * dW1\n",
    "    b1 = b1 - alpha * db1    \n",
    "    W2 = W2 - alpha * dW2  \n",
    "    b2 = b2 - alpha * db2    \n",
    "    return W1, b1, W2, b2"
   ]
  },
  {
   "cell_type": "code",
   "execution_count": 6,
   "id": "f35b7f22",
   "metadata": {
    "execution": {
     "iopub.execute_input": "2023-09-01T15:33:18.874404Z",
     "iopub.status.busy": "2023-09-01T15:33:18.873979Z",
     "iopub.status.idle": "2023-09-01T15:33:18.883875Z",
     "shell.execute_reply": "2023-09-01T15:33:18.882661Z"
    },
    "papermill": {
     "duration": 0.020734,
     "end_time": "2023-09-01T15:33:18.886599",
     "exception": false,
     "start_time": "2023-09-01T15:33:18.865865",
     "status": "completed"
    },
    "tags": []
   },
   "outputs": [],
   "source": [
    "def get_predictions(A2):\n",
    "    return np.argmax(A2, 0)\n",
    "\n",
    "def get_accuracy(prediction, Y):\n",
    "    print(prediction, Y)\n",
    "    return np.sum(prediction==Y)/Y.size\n",
    "\n",
    "\n",
    "def gradient_descent(X, Y, alpha, iterations):\n",
    "    W1, b1, W2, b2 = init_param()\n",
    "    for i in range(iterations):\n",
    "        Z1, A1, Z2, A2 = foward_prop(W1, b1, W2, b2, X)\n",
    "        dW1, db1, dW2, db2 = backward_prop(Z1, A1, Z2, A2, W1, W2, X, Y)\n",
    "        W1, b1, W2, b2 = update_params(W1, b1, W2, b2, dW1, db1, dW2, db2, alpha)\n",
    "        \n",
    "        if i % 10 == 0:\n",
    "            print(\"Iteration: \", i)\n",
    "            predictions = get_predictions(A2)\n",
    "            print(get_accuracy(predictions, Y))\n",
    "            \n",
    "    return W1, b1, W2, b2\n",
    "    \n",
    "    \n",
    "    "
   ]
  },
  {
   "cell_type": "code",
   "execution_count": 7,
   "id": "86b9622b",
   "metadata": {
    "execution": {
     "iopub.execute_input": "2023-09-01T15:33:18.901177Z",
     "iopub.status.busy": "2023-09-01T15:33:18.900780Z",
     "iopub.status.idle": "2023-09-01T15:34:40.766925Z",
     "shell.execute_reply": "2023-09-01T15:34:40.765170Z"
    },
    "papermill": {
     "duration": 81.87859,
     "end_time": "2023-09-01T15:34:40.771635",
     "exception": false,
     "start_time": "2023-09-01T15:33:18.893045",
     "status": "completed"
    },
    "tags": []
   },
   "outputs": [
    {
     "name": "stdout",
     "output_type": "stream",
     "text": [
      "Iteration:  0\n",
      "[9 4 7 ... 7 9 7] [3 8 8 ... 4 2 9]\n",
      "0.0604390243902439\n",
      "Iteration:  10\n",
      "[9 4 7 ... 7 2 7] [3 8 8 ... 4 2 9]\n",
      "0.15326829268292683\n",
      "Iteration:  20\n",
      "[3 4 8 ... 7 2 7] [3 8 8 ... 4 2 9]\n",
      "0.2485609756097561\n",
      "Iteration:  30\n",
      "[1 4 8 ... 4 2 9] [3 8 8 ... 4 2 9]\n",
      "0.3687073170731707\n",
      "Iteration:  40\n",
      "[1 4 8 ... 4 2 9] [3 8 8 ... 4 2 9]\n",
      "0.4277073170731707\n",
      "Iteration:  50\n",
      "[1 4 8 ... 4 2 9] [3 8 8 ... 4 2 9]\n",
      "0.4648536585365854\n",
      "Iteration:  60\n",
      "[1 3 8 ... 4 2 9] [3 8 8 ... 4 2 9]\n",
      "0.499609756097561\n",
      "Iteration:  70\n",
      "[1 3 8 ... 4 2 9] [3 8 8 ... 4 2 9]\n",
      "0.5334878048780488\n",
      "Iteration:  80\n",
      "[3 3 8 ... 4 2 9] [3 8 8 ... 4 2 9]\n",
      "0.5634390243902438\n",
      "Iteration:  90\n",
      "[3 3 8 ... 4 2 9] [3 8 8 ... 4 2 9]\n",
      "0.5920731707317073\n",
      "Iteration:  100\n",
      "[3 3 8 ... 4 2 9] [3 8 8 ... 4 2 9]\n",
      "0.6147073170731707\n",
      "Iteration:  110\n",
      "[3 3 8 ... 4 2 9] [3 8 8 ... 4 2 9]\n",
      "0.6352926829268293\n",
      "Iteration:  120\n",
      "[3 3 8 ... 4 2 9] [3 8 8 ... 4 2 9]\n",
      "0.6547560975609756\n",
      "Iteration:  130\n",
      "[3 3 8 ... 4 2 9] [3 8 8 ... 4 2 9]\n",
      "0.6717560975609757\n",
      "Iteration:  140\n",
      "[3 3 8 ... 4 2 9] [3 8 8 ... 4 2 9]\n",
      "0.6879512195121951\n",
      "Iteration:  150\n",
      "[3 3 8 ... 4 2 9] [3 8 8 ... 4 2 9]\n",
      "0.7028780487804878\n",
      "Iteration:  160\n",
      "[3 3 8 ... 4 2 9] [3 8 8 ... 4 2 9]\n",
      "0.715390243902439\n",
      "Iteration:  170\n",
      "[3 3 8 ... 4 2 9] [3 8 8 ... 4 2 9]\n",
      "0.7282195121951219\n",
      "Iteration:  180\n",
      "[3 3 8 ... 4 2 9] [3 8 8 ... 4 2 9]\n",
      "0.7383658536585366\n",
      "Iteration:  190\n",
      "[3 3 8 ... 4 2 9] [3 8 8 ... 4 2 9]\n",
      "0.7478292682926829\n",
      "Iteration:  200\n",
      "[3 3 8 ... 4 2 9] [3 8 8 ... 4 2 9]\n",
      "0.7564146341463415\n",
      "Iteration:  210\n",
      "[3 3 8 ... 4 2 9] [3 8 8 ... 4 2 9]\n",
      "0.7645121951219512\n",
      "Iteration:  220\n",
      "[3 3 8 ... 4 2 9] [3 8 8 ... 4 2 9]\n",
      "0.7714146341463415\n",
      "Iteration:  230\n",
      "[3 3 8 ... 4 2 9] [3 8 8 ... 4 2 9]\n",
      "0.7781219512195122\n",
      "Iteration:  240\n",
      "[3 8 8 ... 4 2 9] [3 8 8 ... 4 2 9]\n",
      "0.7842682926829269\n",
      "Iteration:  250\n",
      "[3 8 8 ... 4 2 9] [3 8 8 ... 4 2 9]\n",
      "0.7900487804878049\n",
      "Iteration:  260\n",
      "[3 8 8 ... 4 2 9] [3 8 8 ... 4 2 9]\n",
      "0.7957560975609757\n",
      "Iteration:  270\n",
      "[3 8 8 ... 4 2 9] [3 8 8 ... 4 2 9]\n",
      "0.8007073170731708\n",
      "Iteration:  280\n",
      "[3 8 8 ... 4 2 9] [3 8 8 ... 4 2 9]\n",
      "0.8048780487804879\n",
      "Iteration:  290\n",
      "[3 8 8 ... 4 2 9] [3 8 8 ... 4 2 9]\n",
      "0.808439024390244\n",
      "Iteration:  300\n",
      "[3 8 8 ... 4 2 9] [3 8 8 ... 4 2 9]\n",
      "0.8124634146341464\n",
      "Iteration:  310\n",
      "[3 8 8 ... 4 2 9] [3 8 8 ... 4 2 9]\n",
      "0.8160243902439024\n",
      "Iteration:  320\n",
      "[3 8 8 ... 4 2 9] [3 8 8 ... 4 2 9]\n",
      "0.8192682926829268\n",
      "Iteration:  330\n",
      "[3 8 8 ... 4 2 9] [3 8 8 ... 4 2 9]\n",
      "0.8219512195121951\n",
      "Iteration:  340\n",
      "[3 8 8 ... 4 2 9] [3 8 8 ... 4 2 9]\n",
      "0.8249756097560975\n",
      "Iteration:  350\n",
      "[3 8 8 ... 4 2 9] [3 8 8 ... 4 2 9]\n",
      "0.8273658536585365\n",
      "Iteration:  360\n",
      "[3 8 8 ... 4 2 9] [3 8 8 ... 4 2 9]\n",
      "0.8296097560975609\n",
      "Iteration:  370\n",
      "[3 8 8 ... 4 2 9] [3 8 8 ... 4 2 9]\n",
      "0.8315365853658536\n",
      "Iteration:  380\n",
      "[3 8 8 ... 4 2 9] [3 8 8 ... 4 2 9]\n",
      "0.8336097560975609\n",
      "Iteration:  390\n",
      "[3 8 8 ... 4 2 9] [3 8 8 ... 4 2 9]\n",
      "0.8356585365853658\n",
      "Iteration:  400\n",
      "[3 8 8 ... 4 2 9] [3 8 8 ... 4 2 9]\n",
      "0.8377560975609756\n",
      "Iteration:  410\n",
      "[3 8 8 ... 4 2 9] [3 8 8 ... 4 2 9]\n",
      "0.8395121951219512\n",
      "Iteration:  420\n",
      "[3 8 8 ... 4 2 9] [3 8 8 ... 4 2 9]\n",
      "0.8414390243902439\n",
      "Iteration:  430\n",
      "[3 8 8 ... 4 2 9] [3 8 8 ... 4 2 9]\n",
      "0.8432682926829268\n",
      "Iteration:  440\n",
      "[3 8 8 ... 4 2 9] [3 8 8 ... 4 2 9]\n",
      "0.8451463414634146\n",
      "Iteration:  450\n",
      "[3 8 8 ... 4 2 9] [3 8 8 ... 4 2 9]\n",
      "0.8468536585365853\n",
      "Iteration:  460\n",
      "[3 8 8 ... 4 2 9] [3 8 8 ... 4 2 9]\n",
      "0.8482926829268292\n",
      "Iteration:  470\n",
      "[3 8 8 ... 4 2 9] [3 8 8 ... 4 2 9]\n",
      "0.8495121951219512\n",
      "Iteration:  480\n",
      "[3 8 8 ... 4 2 9] [3 8 8 ... 4 2 9]\n",
      "0.8509024390243902\n",
      "Iteration:  490\n",
      "[3 8 8 ... 4 2 9] [3 8 8 ... 4 2 9]\n",
      "0.852170731707317\n"
     ]
    }
   ],
   "source": [
    "W1, b1, W2, b2 = gradient_descent(X_train, Y_train, 0.10, 500)"
   ]
  },
  {
   "cell_type": "code",
   "execution_count": 8,
   "id": "5ece31a1",
   "metadata": {
    "execution": {
     "iopub.execute_input": "2023-09-01T15:34:40.824860Z",
     "iopub.status.busy": "2023-09-01T15:34:40.824025Z",
     "iopub.status.idle": "2023-09-01T15:34:40.838547Z",
     "shell.execute_reply": "2023-09-01T15:34:40.837237Z"
    },
    "papermill": {
     "duration": 0.047651,
     "end_time": "2023-09-01T15:34:40.844730",
     "exception": false,
     "start_time": "2023-09-01T15:34:40.797079",
     "status": "completed"
    },
    "tags": []
   },
   "outputs": [],
   "source": [
    "def make_predictions(X, W1, b1, W2, b2):\n",
    "    _, _, _, A2 = forward_prop(W1, b1, W2, b2, X)\n",
    "    predictions = get_predictions(A2)\n",
    "    return predictions\n",
    "\n",
    "def test_prediction(index, W1, b1, W2, b2):\n",
    "    current_image = X_train[:, index, None]\n",
    "    prediction = make_predictions(X_train[:, index, None], W1, b1, W2, b2)\n",
    "    label = Y_train[index]\n",
    "    print(\"Prediction: \", prediction)\n",
    "    print(\"Label: \", label)\n",
    "    \n",
    "    current_image = current_image.reshape((28, 28)) * 255\n",
    "    plt.gray()\n",
    "    plt.imshow(current_image, interpolation='nearest')\n",
    "    plt.show()"
   ]
  },
  {
   "cell_type": "code",
   "execution_count": 9,
   "id": "a94af252",
   "metadata": {
    "execution": {
     "iopub.execute_input": "2023-09-01T15:34:40.891065Z",
     "iopub.status.busy": "2023-09-01T15:34:40.890646Z",
     "iopub.status.idle": "2023-09-01T15:34:41.722505Z",
     "shell.execute_reply": "2023-09-01T15:34:41.721303Z"
    },
    "papermill": {
     "duration": 0.85512,
     "end_time": "2023-09-01T15:34:41.725351",
     "exception": false,
     "start_time": "2023-09-01T15:34:40.870231",
     "status": "completed"
    },
    "tags": []
   },
   "outputs": [
    {
     "name": "stdout",
     "output_type": "stream",
     "text": [
      "Prediction:  [3]\n",
      "Label:  3\n"
     ]
    },
    {
     "data": {
      "image/png": "[encoded data removed]",
      "text/plain": [
       "<Figure size 640x480 with 1 Axes>"
      ]
     },
     "metadata": {},
     "output_type": "display_data"
    },
    {
     "name": "stdout",
     "output_type": "stream",
     "text": [
      "Prediction:  [8]\n",
      "Label:  8\n"
     ]
    },
    {
     "data": {
      "image/png": "[encoded data removed]",
      "text/plain": [
       "<Figure size 640x480 with 1 Axes>"
      ]
     },
     "metadata": {},
     "output_type": "display_data"
    },
    {
     "name": "stdout",
     "output_type": "stream",
     "text": [
      "Prediction:  [8]\n",
      "Label:  8\n"
     ]
    },
    {
     "data": {
      "image/png": "[encoded data removed]",
      "text/plain": [
       "<Figure size 640x480 with 1 Axes>"
      ]
     },
     "metadata": {},
     "output_type": "display_data"
    },
    {
     "name": "stdout",
     "output_type": "stream",
     "text": [
      "Prediction:  [3]\n",
      "Label:  3\n"
     ]
    },
    {
     "data": {
      "image/png": "[encoded data removed]",
      "text/plain": [
       "<Figure size 640x480 with 1 Axes>"
      ]
     },
     "metadata": {},
     "output_type": "display_data"
    }
   ],
   "source": [
    "test_prediction(0, W1, b1, W2, b2)\n",
    "test_prediction(1, W1, b1, W2, b2)\n",
    "test_prediction(2, W1, b1, W2, b2)\n",
    "test_prediction(3, W1, b1, W2, b2)"
   ]
  }
 ],
 "kernelspec": {
  "display_name": "Python 3",
  "language": "python",
  "name": "python3"
 },
 "language_info": {
  "codemirror_mode": {
   "name": "ipython",
   "version": 3
  },
  "file_extension": ".py",
  "mimetype": "text/x-python",
  "name": "python",
  "nbconvert_exporter": "python",
  "pygments_lexer": "ipython3",
  "version": "3.6.4"
 },
 "metadata": {
  "kernelspec": {
   "display_name": "Python 3",
   "language": "python",
   "name": "python3"
  },
  "language_info": {
   "codemirror_mode": {
    "name": "ipython",
    "version": 3
   },
   "file_extension": ".py",
   "mimetype": "text/x-python",
   "name": "python",
   "nbconvert_exporter": "python",
   "pygments_lexer": "ipython3",
   "version": "3.10.12"
  },
  "papermill": {
   "default_parameters": {},
   "duration": 95.68206,
   "end_time": "2023-09-01T15:34:44.557870",
   "environment_variables": {},
   "exception": null,
   "input_path": "__notebook__.ipynb",
   "output_path": "__notebook__.ipynb",
   "parameters": {},
   "start_time": "2023-09-01T15:33:08.875810",
   "version": "2.4.0"
  }
 },
 "nbformat": 4,
 "nbformat_minor": 5
}
